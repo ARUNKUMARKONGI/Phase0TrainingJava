{
 "cells": [
  {
   "cell_type": "code",
   "execution_count": null,
   "metadata": {},
   "outputs": [],
   "source": []
  },
  {
   "cell_type": "code",
   "execution_count": null,
   "metadata": {},
   "outputs": [],
   "source": [
    "###### XoR Approach\n",
    "XOR Approach: Intuition: Two important properties of XOR are the following:\n",
    "\n",
    "XOR of two same numbers is always 0 i.e. a ^ a = 0. ←Property 1. XOR of a number with 0 will result in the number itself i.e. 0 ^ a = a. ←Property 2\n",
    "\n",
    "Now, let’s XOR all the numbers between 1 to N. xor1 = 1^2^.......^N\n",
    "\n",
    "Let’s XOR all the numbers in the given array. xor2 = 1^2^......^N (contains all the numbers except the missing one).\n",
    "\n",
    "Now, if we again perform XOR between xor1 and xor2, we will get: xor1 ^ xor2 = (1^1)^(2^2)^........^(missing Number)^.....^(N^N)\n",
    "\n",
    "Here all the numbers except the missing number will form a pair and each pair will result in 0 according to the XOR property. The result will be = 0 ^ (missing number) = missing number (according to property 2).\n",
    "\n",
    "So, if we perform the XOR of the numbers 1 to N with the XOR of the array elements, we will be left with the missing number.\n",
    "\n",
    "Approach: The steps are as follows:\n",
    "\n",
    "We will first run a loop(say i) from 0 to N-2(as the length of the array = N-1). Inside the loop, xor2 variable will calculate the XOR of array elements i.e. xor2 = xor2 ^ a[i]. And the xor1 variable will calculate the XOR of 1 to N-1 i.e. xor1 = xor1 ^ (i+1). After the loop ends we will XOR xor1 and N to get the total XOR of 1 to N. Finally, the answer will be the XOR of xor1 and xor2. Dry run:\n",
    "\n",
    "Assume the given array is: {1, 2, 4, 5} and N = 5. XOR of (1 to 5) i.e.\n",
    "    xor1 = (1^2^3^4^5) \n",
    "    XOR of array elements i.e. xor2 = (1^2^4^5) XOR of xor1 and xor2 = (1^2^3^4^5) ^ (1^2^4^5) = (1^1)^(2^2)^(3)^(4^4)^(5^5) = 0^0^3^0^0 = 0^3 = 3. The missing number is 3."
   ]
  },
  {
   "cell_type": "code",
   "execution_count": null,
   "metadata": {},
   "outputs": [
    {
     "name": "stdout",
     "output_type": "stream",
     "text": [
      "Enter the first number (a):  16\n",
      "Enter the second number (b):  9\n"
     ]
    },
    {
     "name": "stdout",
     "output_type": "stream",
     "text": [
      "Before swapping: a = 16, b = 9\n",
      "After swapping: a = 9, b = 16\n"
     ]
    }
   ],
   "source": [
    "\n",
    "\n",
    "# Using these properties, the XOR swap works as follows:\n",
    "\n",
    "# After a = a ^ b, a holds the XOR of the original a and b. (stores the difference)\n",
    "# After b = a ^ b, b is effectively updated to the original a because a ^ b ^ b simplifies to a.\n",
    "# Finally, a = a ^ b results in a being updated to the original b because a ^ b ^ a sidef swap_numbers(a, b):\n",
    "    print(f\"Before swapping: a = {a}, b = {b}\")\n",
    "\n",
    "    a = a ^ b\n",
    "    b = a ^ b\n",
    "    a = a ^ b\n",
    "\n",
    "    print(f\"After swapping: a = {a}, b = {b}\")\n",
    "\n",
    "a = int(input(\"Enter the first number (a): \"))\n",
    "b = int(input(\"Enter the second number (b): \"))\n",
    "\n",
    "swap_numbers(a, b)mplifies to b.\n"
   ]
  },
  {
   "cell_type": "code",
   "execution_count": null,
   "metadata": {},
   "outputs": [
    {
     "name": "stdout",
     "output_type": "stream",
     "text": [
      "Enter an integer:  6\n"
     ]
    },
    {
     "name": "stdout",
     "output_type": "stream",
     "text": [
      "Number of set bits: 2\n"
     ]
    }
   ],
   "source": [
    "n = int(input(\"Enter an integer: \"))\n",
    "print(\"Number of set bits:\", bin(n).count('1'))\n",
    "\n",
    "\n",
    "# public class SetBitsCounter {\n",
    "\n",
    "#     public static void main(String[] args) {\n",
    "#         int number = 29; // Example number\n",
    "#         int count = countSetBits(number);\n",
    "#         System.out.println(\"Number of set bits: \" + count);\n",
    "#     }\n",
    "\n",
    "#     public static int countSetBits(int number) {\n",
    "#         // Convert the number to a binary string representation\n",
    "#         String binaryString = Integer.toBinaryString(number);\n",
    "        \n",
    "#         // Initialize the count of set bits\n",
    "#         int count = 0;\n",
    "        \n",
    "#         // Iterate through each character in the binary string\n",
    "#         for (char c : binaryString.toCharArray()) {\n",
    "#             if (c == '1') {\n",
    "#                 count++;\n",
    "#             }\n",
    "#         }\n",
    "        \n",
    "#         return count;\n",
    "#     }\n",
    "}\n"
   ]
  },
  {
   "cell_type": "code",
   "execution_count": null,
   "metadata": {},
   "outputs": [
    {
     "name": "stdout",
     "output_type": "stream",
     "text": [
      "Number of set bits in 6 is 2\n"
     ]
    }
   ],
   "source": [
    "#counting set bits\n",
    "\n",
    "def count_set_bits(num):\n",
    "    count = 0\n",
    "\n",
    "    while num > 0:\n",
    "        count += num & 1    #n&1 helps u to find the least significant bit\n",
    "        num >>= 1           #right shift by 1 position helps you to move to the next bit\n",
    "\n",
    "    return count\n",
    "\n",
    "input_num = 6\n",
    "set_bits_count = count_set_bits(input_num)\n",
    "print(f\"Number of set bits in {input_num} is {set_bits_count}\")"
   ]
  },
  {
   "cell_type": "code",
   "execution_count": null,
   "metadata": {},
   "outputs": [
    {
     "name": "stdout",
     "output_type": "stream",
     "text": [
      "Enter an integer:  6\n"
     ]
    },
    {
     "name": "stdout",
     "output_type": "stream",
     "text": [
      "Number of set bits: 2\n"
     ]
    }
   ],
   "source": [
    "n = int(input(\"Enter an integer: \"))\n",
    "print(\"Number of set bits:\", n.bit_count())"
   ]
  },
  {
   "cell_type": "code",
   "execution_count": null,
   "metadata": {},
   "outputs": [],
   "source": [
    "#Using Brian Kernighan’s Algorithm\n",
    "def count_set_bits(n):\n",
    "    count = 0\n",
    "    while n:\n",
    "        n &= (n - 1) \n",
    "        count += 1\n",
    "    return count\n",
    "\n",
    "# Example usage\n",
    "n = int(input(\"Enter an integer: \"))\n",
    "print(\"Number of set bits:\", count_set_bits(n))"
   ]
  },
  {
   "cell_type": "code",
   "execution_count": null,
   "metadata": {},
   "outputs": [
    {
     "name": "stdout",
     "output_type": "stream",
     "text": [
      "4\n"
     ]
    }
   ],
   "source": [
    "def find_unique_element(nums):  #single number\n",
    "    result = 0\n",
    "    for num in nums:\n",
    "        result ^= num\n",
    "    return result\n",
    "\n",
    "# Example\n",
    "nums = [2, 3, 4, 2, 3]\n",
    "print(find_unique_element(nums))  # Output: 4\n",
    "#XoRing the same number twice results in 0"
   ]
  },
  {
   "cell_type": "code",
   "execution_count": null,
   "metadata": {},
   "outputs": [
    {
     "name": "stdout",
     "output_type": "stream",
     "text": [
      "not power of 2\n"
     ]
    }
   ],
   "source": [
    "#check for power of 2\n",
    "number = 16\n",
    "if number > 0 and (number & (number - 1)) == 0:\n",
    "    print(\"number power of 2\")\n",
    "else:\n",
    "    print(\"not power of 2\")"
   ]
  },
  {
   "cell_type": "markdown",
   "metadata": {},
   "source": [
    "###(n & (n - 1)) == 0: This condition checks if n is a power of 2. Here's how it works:\n",
    "\n",
    "When you subtract 1 from a power of 2, you get a number with all bits set to 1 except for the highest bit that was set to 0 in the original power of 2. For example, for 16 (binary: 10000), subtracting 1 gives 15 (binary: 01111). Now, when you perform a bitwise AND (&) operation between a power of 2 and its predecessor, you get 0. This is because the binary representation of a power of 2 has only one bit set to 1 (the highest bit), and its predecessor has all lower bits set to 1. The AND operation results in all 0s except for the highest bit.\n",
    "\n",
    "Example: Binary representation of 16: 10000 Binary representation of 15 (16 - 1): 01111 16 & 15 = 00000 (all bits are 0) So, the condition (n & (n - 1)) == 0 checks if n has only one bit set to 1, which means it's a power of 2. Combining this condition with n > 0 ensures that the function correctly identifies positive powers of 2."
   ]
  },
  {
   "cell_type": "markdown",
   "metadata": {},
   "source": [
    "### Minimum flips reqd to make a OR b == c"
   ]
  },
  {
   "cell_type": "code",
   "execution_count": null,
   "metadata": {},
   "outputs": [],
   "source": [
    "''' Given 3 positives numbers a, b and c. Return the minimum flips required\n",
    "in some bits of a and b to make ( a OR b == c ). (bitwise OR operation).\n",
    "\n",
    "Flip operation consists of change any single bit 1 to 0 or\n",
    "change the bit 0 to 1 in their binary representation.\n",
    "\n",
    "Example 1:\n",
    "\n",
    "Input: a = 2, b = 6, c = 5\n",
    "Output: 3\n",
    "Explanation: After flips a = 1 , b = 4 , c = 5 such that (a OR b == c)'''"
   ]
  },
  {
   "cell_type": "code",
   "execution_count": null,
   "metadata": {},
   "outputs": [
    {
     "name": "stdout",
     "output_type": "stream",
     "text": [
      "2 6 5\n",
      "2\n"
     ]
    }
   ],
   "source": [
    "# minimum bits required to flip\n",
    "def minFlips(a,b,c):\n",
    "    flips = 0\n",
    "    while a>0 or b>0 or c>0:\n",
    "        bit_a = a&1   \n",
    "        bit_b = b&1\n",
    "        bit_c = c&1\n",
    "\n",
    "        if bit_c == 0:\n",
    "            flips += (bit_a + bit_b)\n",
    "        else:\n",
    "            if bit_a == 0 and bit_b == 0:\n",
    "                flips+=1\n",
    "        a>>=1\n",
    "        b>>=1\n",
    "        c>>=1\n",
    "    return flips\n",
    "\n",
    "a,b,c=map(int,input().split())\n",
    "#print(a,b,c)\n",
    "print(minFlips(a,b,c))\n"
   ]
  },
  {
   "cell_type": "code",
   "execution_count": null,
   "metadata": {},
   "outputs": [
    {
     "name": "stdout",
     "output_type": "stream",
     "text": [
      "number power of 2\n"
     ]
    }
   ],
   "source": [
    "\n"
   ]
  },
  {
   "cell_type": "markdown",
   "metadata": {},
   "source": [
    "###(n & (n - 1)) == 0: This condition checks if n is a power of 2. Here's how it works:\n",
    "\n",
    "When you subtract 1 from a power of 2, you get a number with all bits set to 1 except for the highest bit that was set to 0 in the original power of 2.\n",
    "For example, for 16 (binary: 10000), subtracting 1 gives 15 (binary: 01111).\n",
    "Now, when you perform a bitwise AND (&) operation between a power of 2 and its predecessor, you get 0. This is because the binary representation of a power of 2 has only one bit set to 1 (the highest bit), and its predecessor has all lower bits set to 1. The AND operation results in all 0s except for the highest bit.\n",
    "\n",
    "Example:\n",
    "Binary representation of 16: 10000\n",
    "Binary representation of 15 (16 - 1): 01111\n",
    "16 & 15 = 00000 (all bits are 0)\n",
    "So, the condition (n & (n - 1)) == 0 checks if n has only one bit set to 1, which means it's a power of 2. Combining this condition with n > 0 ensures that the function correctly identifies positive powers of 2. "
   ]
  },
  {
   "cell_type": "code",
   "execution_count": null,
   "metadata": {},
   "outputs": [
    {
     "name": "stdout",
     "output_type": "stream",
     "text": [
      "5\n",
      "5\n"
     ]
    }
   ],
   "source": [
    "#Reverse the bits i.e 5 i binary is 101 after reversing its still 101 so ans is 5\n",
    "n=int(input())\n",
    "b=bin(n)[2:]\n",
    "r=b[::-1]\n",
    "print(int(r,2))\n",
    "\n",
    "\n",
    "# import java.util.Scanner;\n",
    "\n",
    "# public class ReverseBits {\n",
    "#     public static void main(String[] args) {\n",
    "#         Scanner scanner = new Scanner(System.in);\n",
    "        \n",
    "#         // Read an integer from the user\n",
    "#         int n = scanner.nextInt();\n",
    "        \n",
    "#         // Convert integer to binary string\n",
    "#         String binaryString = Integer.toBinaryString(n);\n",
    "        \n",
    "#         // Reverse the binary string\n",
    "#         String reversedBinaryString = new StringBuilder(binaryString).reverse().toString();\n",
    "        \n",
    "#         // Convert the reversed binary string back to an integer\n",
    "#         int reversedInt = Integer.parseInt(reversedBinaryString, 2);\n",
    "        \n",
    "#         // Print the result\n",
    "#         System.out.println(reversedInt);\n",
    "#     }\n",
    "# }\n"
   ]
  },
  {
   "cell_type": "code",
   "execution_count": null,
   "metadata": {},
   "outputs": [
    {
     "name": "stdout",
     "output_type": "stream",
     "text": [
      " 4\n"
     ]
    },
    {
     "name": "stdout",
     "output_type": "stream",
     "text": [
      "1\n"
     ]
    }
   ],
   "source": [
    "#reverse using bitwise this is more efficient\n",
    "def reverse_bits(n):\n",
    "    result = 0\n",
    "    num_bits = n.bit_length()  # Determine the number of bits in n\n",
    "    for _ in range(num_bits):\n",
    "        result = (result << 1) | (n & 1)\n",
    "        n = n >> 1\n",
    "    return result\n",
    "\n",
    "n=int(input())\n",
    "rev_n=reverse_bits(n)\n",
    "print(rev_n)"
   ]
  },
  {
   "cell_type": "markdown",
   "metadata": {},
   "source": [
    "The goal of the algorithm is to reverse the bits of n and store the result in result.\n",
    "By shifting result to the left and adding the next bit from n, we effectively build the reversed number bit by bit.\n",
    "Each time we shift result to the left and add a bit from n, we are positioning that bit correctly in the reversed number"
   ]
  },
  {
   "cell_type": "markdown",
   "metadata": {},
   "source": [
    "After shifting result to the left, we perform a bitwise OR operation (|) with (n & 1).\n",
    "This OR operation sets the rightmost bit of result to the value of the least significant bit of n, effectively adding that bit to the reversed number being constructed."
   ]
  },
  {
   "cell_type": "markdown",
   "metadata": {},
   "source": [
    "After processing each bit of n, we shift n to the right (n = n >> 1) to prepare for the next iteration, where the next bit will be extracted and added to result."
   ]
  },
  {
   "cell_type": "code",
   "execution_count": null,
   "metadata": {},
   "outputs": [
    {
     "name": "stdout",
     "output_type": "stream",
     "text": [
      "2\n"
     ]
    }
   ],
   "source": [
    "print(2 | 2& 1)"
   ]
  },
  {
   "cell_type": "markdown",
   "metadata": {},
   "source": [
    "Symmetric Property: XOR is symmetric, meaning a XOR b is equal to b XOR a. This property allows us to swap two values without losing any information.\n",
    "\n",
    "Cancellation Property: XOR has a cancellation property such that a XOR b XOR a results in b. This property is crucial for swapping values in place without using extra storage."
   ]
  },
  {
   "cell_type": "code",
   "execution_count": 12,
   "metadata": {},
   "outputs": [
    {
     "name": "stdout",
     "output_type": "stream",
     "text": [
      "The missing number is: 4\n"
     ]
    }
   ],
   "source": [
    "\n",
    "def missingNumber(a, N):\n",
    "    xor1 = 0  \n",
    "    xor2 = 0 \n",
    "    \n",
    "    for num in a:\n",
    "        xor2 ^= num\n",
    "\n",
    "    for i in range(0, N):\n",
    "        xor1 ^= i\n",
    "\n",
    "    return xor1 ^ xor2\n",
    "\n",
    "N = 6\n",
    "a = [0,1,2,3,5]\n",
    "ans = missingNumber(a, N)\n",
    "print(\"The missing number is:\", ans)"
   ]
  },
  {
   "cell_type": "code",
   "execution_count": 3,
   "metadata": {},
   "outputs": [
    {
     "name": "stdout",
     "output_type": "stream",
     "text": [
      "Missing number: 3\n"
     ]
    }
   ],
   "source": [
    "#another approach O(n)\n",
    "#Space Complexity: O(1) as we are not using any extra space.\n",
    "\n",
    "nums = [0,1, 2, 4]\n",
    "n = len(nums)\n",
    "total_sum = n * (n + 1) // 2  #find the total sum upto n using sum of naturual numbers formula\n",
    "missing_number = total_sum - sum(nums)\n",
    "print(\"Missing number:\", missing_number)"
   ]
  },
  {
   "cell_type": "code",
   "execution_count": null,
   "metadata": {},
   "outputs": [],
   "source": [
    "#using dp\n",
    "     res = len(nums)\n",
    "        for i in range(len(nums)):\n",
    "            res += i - nums[i]\n",
    "        return res"
   ]
  },
  {
   "cell_type": "code",
   "execution_count": null,
   "metadata": {},
   "outputs": [],
   "source": [
    "# Note: Among the optimal approaches, the XOR approach is slightly better than the \n",
    "#     summation one because the term (N * (N+1))/2 used in the summation method cannot be stored in an integer\n",
    "#     if the value of N is big (like 10^5). \n",
    "#     In that case, we have to use some bigger data types. But we will face no issues like this while using the XOR approach."
   ]
  },
  {
   "cell_type": "code",
   "execution_count": null,
   "metadata": {},
   "outputs": [
    {
     "name": "stdout",
     "output_type": "stream",
     "text": [
      "10715086071862673209484250490600018105614048117055336074437503883703510511249361224931983788156958581275946729175531468251871452856923140435984577574698574803934567774824230985421074605062371141877954182153046474983581941267398767559165543946077062914571196477686542167660429831652624386837205668069376\n"
     ]
    }
   ],
   "source": [
    "#summation approach can be used in python as data type size are dynamically increased.\n",
    "a = 2 ** 1000\n",
    "print(a)  # Outputs a very large number"
   ]
  },
  {
   "cell_type": "code",
   "execution_count": null,
   "metadata": {},
   "outputs": [
    {
     "ename": "IndentationError",
     "evalue": "unexpected indent (1062475469.py, line 2)",
     "output_type": "error",
     "traceback": [
      "\u001b[1;36m  Cell \u001b[1;32mIn[18], line 2\u001b[1;36m\u001b[0m\n",
      "\u001b[1;33m    def countBits(self, n: int) -> List[int]:\u001b[0m\n",
      "\u001b[1;37m    ^\u001b[0m\n",
      "\u001b[1;31mIndentationError\u001b[0m\u001b[1;31m:\u001b[0m unexpected indent\n"
     ]
    }
   ],
   "source": [
    "# counting set bits from 1 to n\n",
    " def countBits(self, n: int) -> List[int]:\n",
    "        dp = [0] * (n + 1)\n",
    "        offset = 1\n",
    "\n",
    "        for i in range(1, n + 1):\n",
    "            if offset * 2 == i:\n",
    "                offset = i\n",
    "            dp[i] = 1 + dp[i - offset]\n",
    "        return dp"
   ]
  },
  {
   "cell_type": "markdown",
   "metadata": {},
   "source": [
    "###### \n",
    "Example with n = 5\n",
    "Initialization:\n",
    "\n",
    "dp = [0, 0, 0, 0, 0, 0]\n",
    "offset = 1\n",
    "Iteration:\n",
    "\n",
    "i = 1:\n",
    "\n",
    "offset = 1 (boundary for 1-bit numbers)\n",
    "dp[1] = 1 + dp[0] = 1\n",
    "dp = [0, 1, 0, 0, 0, 0]\n",
    "i = 2:\n",
    "\n",
    "offset * 2 == 2 (boundary for 2-bit numbers)\n",
    "offset = 2\n",
    "dp[2] = 1 + dp[0] = 1\n",
    "dp = [0, 1, 1, 0, 0, 0]\n",
    "i = 3:\n",
    "\n",
    "dp[3] = 1 + dp[1] = 2\n",
    "dp = [0, 1, 1, 2, 0, 0]\n",
    "i = 4:\n",
    "\n",
    "offset * 2 == 4 (boundary for 3-bit numbers)\n",
    "offset = 4\n",
    "dp[4] = 1 + dp[0] = 1\n",
    "dp = [0, 1, 1, 2, 1, 0]\n",
    "i = 5:\n",
    "\n",
    "dp[5] = 1 + dp[1] = 2\n",
    "dp = [0, 1, 1, 2, 1, 2]\n",
    "Final Output:\n",
    "\n",
    "The array dp is [0, 1, 1, 2, 1, 2], which represents the number of 1s in the binary representation of each number from 0 to 5."
   ]
  },
  {
   "cell_type": "code",
   "execution_count": 4,
   "metadata": {},
   "outputs": [
    {
     "name": "stdout",
     "output_type": "stream",
     "text": [
      "8\n"
     ]
    }
   ],
   "source": [
    "a = 5\n",
    "b = 3\n",
    "\n",
    "while b != 0:\n",
    "    carry = (a & b) << 1\n",
    "    a = a ^ b\n",
    "    b = carry\n",
    "\n",
    "print(a)\n"
   ]
  },
  {
   "cell_type": "code",
   "execution_count": null,
   "metadata": {},
   "outputs": [
    {
     "name": "stdout",
     "output_type": "stream",
     "text": [
      "5\n"
     ]
    }
   ],
   "source": []
  }
 ],
 "metadata": {
  "kernelspec": {
   "display_name": "base",
   "language": "python",
   "name": "python3"
  },
  "language_info": {
   "codemirror_mode": {
    "name": "ipython",
    "version": 3
   },
   "file_extension": ".py",
   "mimetype": "text/x-python",
   "name": "python",
   "nbconvert_exporter": "python",
   "pygments_lexer": "ipython3",
   "version": "3.12.4"
  }
 },
 "nbformat": 4,
 "nbformat_minor": 2
}
